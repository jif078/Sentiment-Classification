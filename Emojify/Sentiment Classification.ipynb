{
 "cells": [
  {
   "cell_type": "code",
   "execution_count": 1,
   "metadata": {},
   "outputs": [],
   "source": [
    "import csv\n",
    "import numpy as np\n",
    "import emoji\n",
    "import matplotlib.pyplot as plt\n",
    "\n",
    "%matplotlib inline"
   ]
  },
  {
   "cell_type": "markdown",
   "metadata": {},
   "source": [
    "Emoji Class"
   ]
  },
  {
   "cell_type": "code",
   "execution_count": 2,
   "metadata": {},
   "outputs": [],
   "source": [
    "emoji_dictionary = {\"0\": \":heart_with_arrow:\",\n",
    "                    \"1\": \":baseball:\",\n",
    "                    \"2\": \":smile:\",\n",
    "                    \"3\": \":disappointed:\",\n",
    "                    \"4\": \":fork_and_knife:\"}\n",
    "\n",
    "def label_to_emoji(label):\n",
    "    \"\"\"\n",
    "    Converts a label (int or string) into the corresponding emoji code (string) ready to be printed\n",
    "    \"\"\"\n",
    "    return emoji.emojize(emoji_dictionary[str(label)], use_aliases=True)"
   ]
  },
  {
   "cell_type": "markdown",
   "metadata": {},
   "source": [
    "<img src=\"images/data_set.png\" style=\"width:700px;height:300px;\">"
   ]
  },
  {
   "cell_type": "markdown",
   "metadata": {},
   "source": [
    "Load Dataset"
   ]
  },
  {
   "cell_type": "code",
   "execution_count": 3,
   "metadata": {},
   "outputs": [
    {
     "name": "stdout",
     "output_type": "stream",
     "text": [
      "she did not answer my text  😞\n"
     ]
    }
   ],
   "source": [
    "def read_csv(filename):\n",
    "    Phrase = []\n",
    "    Emoji = []\n",
    "    with open (filename) as f:\n",
    "        data = csv.reader(f)\n",
    "        for row in data:\n",
    "            Phrase.append(row[0])\n",
    "            Emoji.append(row[1])\n",
    "    X = np.asarray(Phrase)\n",
    "    Y = np.asarray(Emoji,dtype=int)\n",
    "    return X,Y\n",
    "X_train, Y_train = read_csv('data/train_emoji.csv')\n",
    "X_test, Y_test = read_csv('data/tesss.csv')\n",
    "### Example\n",
    "index = 10\n",
    "print X_train[index],label_to_emoji(Y_train[index])\n",
    "###"
   ]
  },
  {
   "cell_type": "markdown",
   "metadata": {},
   "source": [
    "Get Max Length"
   ]
  },
  {
   "cell_type": "code",
   "execution_count": 4,
   "metadata": {},
   "outputs": [
    {
     "name": "stdout",
     "output_type": "stream",
     "text": [
      "max length of sentences is  10\n"
     ]
    }
   ],
   "source": [
    "max_len = len(max(X_train, key=len).split())\n",
    "print 'max length of sentences is ', max_len"
   ]
  },
  {
   "cell_type": "markdown",
   "metadata": {},
   "source": [
    "One-hot convert"
   ]
  },
  {
   "cell_type": "code",
   "execution_count": 5,
   "metadata": {},
   "outputs": [
    {
     "name": "stdout",
     "output_type": "stream",
     "text": [
      "0 is converted into one hot [1. 0. 0. 0. 0.]\n"
     ]
    }
   ],
   "source": [
    "y_train = np.eye(5)[Y_train.reshape(-1)]\n",
    "y_test = np.eye(5)[Y_test.reshape(-1)]\n",
    "### Example\n",
    "index = 50\n",
    "print Y_train[index], 'is converted into one hot', y_train[index]\n",
    "###"
   ]
  },
  {
   "cell_type": "markdown",
   "metadata": {},
   "source": [
    "Load Word Vectors"
   ]
  },
  {
   "cell_type": "code",
   "execution_count": 6,
   "metadata": {},
   "outputs": [],
   "source": [
    "def read_GloVe_vecs(glove_file):\n",
    "    with open(glove_file, 'r') as f:\n",
    "        words = set()\n",
    "        word_to_vec_map = {}\n",
    "        for line in f:\n",
    "            line = line.strip().split()\n",
    "            curr_word = line[0]\n",
    "            words.add(curr_word)\n",
    "            word_to_vec_map[curr_word] = np.array(line[1:], dtype=np.float64)\n",
    "        \n",
    "        i = 1\n",
    "        words_to_index = {}\n",
    "        index_to_words = {}\n",
    "        for w in sorted(words):\n",
    "            words_to_index[w] = i\n",
    "            index_to_words[i] = w\n",
    "            i = i + 1\n",
    "    return words_to_index, index_to_words, word_to_vec_map\n",
    "word_to_index, index_to_word, word_to_vec_map = read_GloVe_vecs('data/glove.6B.50d.txt')"
   ]
  },
  {
   "cell_type": "markdown",
   "metadata": {},
   "source": [
    "Average words meaning in a sentence. Can be used for naive Neural Network"
   ]
  },
  {
   "cell_type": "code",
   "execution_count": 7,
   "metadata": {},
   "outputs": [],
   "source": [
    "# def meaning_encoding(sentence, word_to_vec_map):\n",
    "#     words = sentence.lower().split()\n",
    "#     meaning_code = np.zeros(word_to_vec_map[words[0]].shape)\n",
    "#     for word in words:\n",
    "#         meaning_code += word_to_vec_map[word]\n",
    "#     avg = meaning_code/len(words)\n",
    "#     return avg\n",
    "# #### Example\n",
    "# avg = meaning_encoding(\"Morrocan couscous is my favorite dish\", word_to_vec_map)\n",
    "# print(\"avg = \", avg)\n",
    "# ####"
   ]
  },
  {
   "cell_type": "markdown",
   "metadata": {},
   "source": [
    "Advanced LSTM Model in Keras"
   ]
  },
  {
   "cell_type": "code",
   "execution_count": 8,
   "metadata": {},
   "outputs": [
    {
     "name": "stderr",
     "output_type": "stream",
     "text": [
      "/Users/fengjinzhao/anaconda2/lib/python2.7/site-packages/h5py/__init__.py:36: FutureWarning: Conversion of the second argument of issubdtype from `float` to `np.floating` is deprecated. In future, it will be treated as `np.float64 == np.dtype(float).type`.\n",
      "  from ._conv import register_converters as _register_converters\n",
      "Using TensorFlow backend.\n"
     ]
    }
   ],
   "source": [
    "import numpy as np\n",
    "np.random.seed(0)\n",
    "from keras.models import Model\n",
    "from keras.layers import Dense, Input, Dropout, LSTM, Activation\n",
    "from keras.layers.embeddings import Embedding\n",
    "from keras.preprocessing import sequence\n",
    "from keras.initializers import glorot_uniform\n",
    "np.random.seed(1)"
   ]
  },
  {
   "cell_type": "markdown",
   "metadata": {},
   "source": [
    "<img src=\"images/embedding1.png\" style=\"width:700px;height:250px;\">"
   ]
  },
  {
   "cell_type": "code",
   "execution_count": null,
   "metadata": {},
   "outputs": [],
   "source": []
  },
  {
   "cell_type": "code",
   "execution_count": 9,
   "metadata": {},
   "outputs": [
    {
     "name": "stdout",
     "output_type": "stream",
     "text": [
      "('X1 =', array(['funny lol', 'lets play baseball', 'food is ready for you'],\n",
      "      dtype='|S21'))\n",
      "('X1_indices =', array([[155345., 225122.,      0.,      0.,      0.],\n",
      "       [220930., 286375.,  69714.,      0.,      0.],\n",
      "       [151204., 192973., 302254., 151349., 394475.]]))\n"
     ]
    }
   ],
   "source": [
    "def to_indices(X,word_to_index,max_len):\n",
    "    \"\"\"\n",
    "    Converts an array of sentences (strings) into an array of indices corresponding to words in the sentences.\n",
    "    The output shape should be such that it can be given to `Embedding()` (described in Figure 4). \n",
    "    \n",
    "    Arguments:\n",
    "    X -- array of sentences (strings), of shape (m, 1)\n",
    "    word_to_index -- a dictionary containing the each word mapped to its index\n",
    "    max_len -- maximum number of words in a sentence. You can assume every sentence in X is no longer than this. \n",
    "    \n",
    "    Returns:\n",
    "    X_indices -- array of indices corresponding to words in the sentences from X, of shape (m, max_len)\n",
    "    \"\"\"\n",
    "    m = X.shape[0]\n",
    "    X_indices = np.zeros((m,max_len))\n",
    "    for i in range(m):\n",
    "        words = X[i].lower().split()\n",
    "        j = 0 \n",
    "        for word in words:\n",
    "            X_indices[i,j] = word_to_index[word]\n",
    "            j += 1\n",
    "    return X_indices\n",
    "### Example\n",
    "X1 = np.array([\"funny lol\", \"lets play baseball\", \"food is ready for you\"])\n",
    "X1_indices = to_indices(X1,word_to_index, max_len = 5)\n",
    "print(\"X1 =\", X1)\n",
    "print(\"X1_indices =\", X1_indices)   \n",
    "###"
   ]
  },
  {
   "cell_type": "code",
   "execution_count": 10,
   "metadata": {},
   "outputs": [
    {
     "name": "stdout",
     "output_type": "stream",
     "text": [
      "('weights[0][1][3] =', -0.3403)\n"
     ]
    }
   ],
   "source": [
    "def pretrained_embedding_layer(word_to_vec_map,word_to_index):\n",
    "    \"\"\"\n",
    "    Creates a Keras Embedding() layer and loads in pre-trained GloVe 50-dimensional vectors.\n",
    "    \n",
    "    Arguments:\n",
    "    word_to_vec_map -- dictionary mapping words to their GloVe vector representation.\n",
    "    word_to_index -- dictionary mapping from words to their indices in the vocabulary (400,001 words)\n",
    "\n",
    "    Returns:\n",
    "    embedding_layer -- pretrained layer Keras instance\n",
    "    \"\"\"\n",
    "    vocab_len = len(word_to_index) + 1                  # adding 1 to fit Keras embedding (requirement)\n",
    "    dim = word_to_vec_map['cucumber'].shape[0]\n",
    "    ebd_matrix = np.zeros((vocab_len,dim))\n",
    "    for word,index in word_to_index.items():\n",
    "        ebd_matrix[index,:] = word_to_vec_map[word]\n",
    "        \n",
    "    # Define Keras embedding layer with the correct output/input sizes    \n",
    "    Embedding_layer = Embedding(vocab_len,dim,trainable=False)\n",
    "    # Build the embedding layer, it is required before setting the weights of the embedding layer.\n",
    "    Embedding_layer.build((None,))\n",
    "    # Set the weights of the embedding layer to the embedding matrix.\n",
    "    Embedding_layer.set_weights([ebd_matrix])\n",
    "    \n",
    "    return Embedding_layer\n",
    "### Example\n",
    "embedding_layer = pretrained_embedding_layer(word_to_vec_map, word_to_index)\n",
    "print(\"weights[0][1][3] =\", embedding_layer.get_weights()[0][1][3])\n",
    "###"
   ]
  },
  {
   "cell_type": "markdown",
   "metadata": {},
   "source": [
    "<img src=\"images/emojifier-v2.png\" style=\"width:700px;height:400px;\"> <br>"
   ]
  },
  {
   "cell_type": "code",
   "execution_count": 11,
   "metadata": {},
   "outputs": [],
   "source": [
    "def Emojify(input_shape,word_to_vec_map,word_to_index):\n",
    "    \"\"\"\n",
    "    Function creating the Emojify model's graph.\n",
    "    \n",
    "    Arguments:\n",
    "    input_shape -- shape of the input, usually (max_len,)\n",
    "    word_to_vec_map -- dictionary mapping every word in a vocabulary into its 50-dimensional vector representation\n",
    "    word_to_index -- dictionary mapping from words to their indices in the vocabulary (400,001 words)\n",
    "\n",
    "    Returns:\n",
    "    model -- a model instance in Keras\n",
    "    \"\"\"\n",
    "    sentence_indices = Input(shape=input_shape,dtype='int32')\n",
    "    \n",
    "    embedding_layer = pretrained_embedding_layer(word_to_vec_map, word_to_index)\n",
    "    embeddings = embedding_layer(sentence_indices) \n",
    "    \n",
    "    X = LSTM(128,return_sequences=True)(embeddings)\n",
    "    X = Dropout(0.5)(X)\n",
    "    X = LSTM(128,return_sequences=False)(X)\n",
    "    X = Dropout(0.5)(X)\n",
    "    X = Dense(5)(X)\n",
    "    X = Activation('softmax')(X)\n",
    "    \n",
    "    model = Model(inputs=sentence_indices,outputs=X)\n",
    "    return model"
   ]
  },
  {
   "cell_type": "code",
   "execution_count": 12,
   "metadata": {},
   "outputs": [
    {
     "name": "stdout",
     "output_type": "stream",
     "text": [
      "WARNING:tensorflow:From /Users/fengjinzhao/anaconda2/lib/python2.7/site-packages/keras/backend/tensorflow_backend.py:1188: calling reduce_sum (from tensorflow.python.ops.math_ops) with keep_dims is deprecated and will be removed in a future version.\n",
      "Instructions for updating:\n",
      "keep_dims is deprecated, use keepdims instead\n",
      "_________________________________________________________________\n",
      "Layer (type)                 Output Shape              Param #   \n",
      "=================================================================\n",
      "input_1 (InputLayer)         (None, 10)                0         \n",
      "_________________________________________________________________\n",
      "embedding_2 (Embedding)      (None, 10, 50)            20000050  \n",
      "_________________________________________________________________\n",
      "lstm_1 (LSTM)                (None, 10, 128)           91648     \n",
      "_________________________________________________________________\n",
      "dropout_1 (Dropout)          (None, 10, 128)           0         \n",
      "_________________________________________________________________\n",
      "lstm_2 (LSTM)                (None, 128)               131584    \n",
      "_________________________________________________________________\n",
      "dropout_2 (Dropout)          (None, 128)               0         \n",
      "_________________________________________________________________\n",
      "dense_1 (Dense)              (None, 5)                 645       \n",
      "_________________________________________________________________\n",
      "activation_1 (Activation)    (None, 5)                 0         \n",
      "=================================================================\n",
      "Total params: 20,223,927\n",
      "Trainable params: 223,877\n",
      "Non-trainable params: 20,000,050\n",
      "_________________________________________________________________\n"
     ]
    }
   ],
   "source": [
    "model = Emojify((max_len,), word_to_vec_map, word_to_index)\n",
    "model.summary()"
   ]
  },
  {
   "cell_type": "code",
   "execution_count": 13,
   "metadata": {},
   "outputs": [
    {
     "name": "stdout",
     "output_type": "stream",
     "text": [
      "WARNING:tensorflow:From /Users/fengjinzhao/anaconda2/lib/python2.7/site-packages/keras/backend/tensorflow_backend.py:1290: calling reduce_mean (from tensorflow.python.ops.math_ops) with keep_dims is deprecated and will be removed in a future version.\n",
      "Instructions for updating:\n",
      "keep_dims is deprecated, use keepdims instead\n"
     ]
    }
   ],
   "source": [
    "model.compile(loss='categorical_crossentropy', optimizer='adam', metrics=['accuracy'])"
   ]
  },
  {
   "cell_type": "code",
   "execution_count": 14,
   "metadata": {},
   "outputs": [
    {
     "name": "stdout",
     "output_type": "stream",
     "text": [
      "Epoch 1/100\n",
      "132/132 [==============================] - 1s - loss: 1.6083 - acc: 0.1970     \n",
      "Epoch 2/100\n",
      "132/132 [==============================] - 0s - loss: 1.5322 - acc: 0.2955     \n",
      "Epoch 3/100\n",
      "132/132 [==============================] - 0s - loss: 1.5010 - acc: 0.3258     \n",
      "Epoch 4/100\n",
      "132/132 [==============================] - 0s - loss: 1.4386 - acc: 0.3561     \n",
      "Epoch 5/100\n",
      "132/132 [==============================] - 0s - loss: 1.3471 - acc: 0.4545     \n",
      "Epoch 6/100\n",
      "132/132 [==============================] - 0s - loss: 1.2332 - acc: 0.5076     \n",
      "Epoch 7/100\n",
      "132/132 [==============================] - 0s - loss: 1.1761 - acc: 0.4470     \n",
      "Epoch 8/100\n",
      "132/132 [==============================] - 0s - loss: 1.0540 - acc: 0.5758     \n",
      "Epoch 9/100\n",
      "132/132 [==============================] - 0s - loss: 0.8765 - acc: 0.7121     \n",
      "Epoch 10/100\n",
      "132/132 [==============================] - 0s - loss: 0.8228 - acc: 0.6970     \n",
      "Epoch 11/100\n",
      "132/132 [==============================] - 0s - loss: 0.7025 - acc: 0.7500     \n",
      "Epoch 12/100\n",
      "132/132 [==============================] - 0s - loss: 0.6005 - acc: 0.8030     \n",
      "Epoch 13/100\n",
      "132/132 [==============================] - 0s - loss: 0.4935 - acc: 0.8333     \n",
      "Epoch 14/100\n",
      "132/132 [==============================] - 0s - loss: 0.5094 - acc: 0.8333     \n",
      "Epoch 15/100\n",
      "132/132 [==============================] - 0s - loss: 0.4785 - acc: 0.8258     \n",
      "Epoch 16/100\n",
      "132/132 [==============================] - 0s - loss: 0.3536 - acc: 0.8636     \n",
      "Epoch 17/100\n",
      "132/132 [==============================] - 0s - loss: 0.3898 - acc: 0.8561     \n",
      "Epoch 18/100\n",
      "132/132 [==============================] - 0s - loss: 0.6495 - acc: 0.8182     \n",
      "Epoch 19/100\n",
      "132/132 [==============================] - 0s - loss: 0.5169 - acc: 0.8182     \n",
      "Epoch 20/100\n",
      "132/132 [==============================] - 0s - loss: 0.3964 - acc: 0.8409     \n",
      "Epoch 21/100\n",
      "132/132 [==============================] - 0s - loss: 0.4688 - acc: 0.8182     \n",
      "Epoch 22/100\n",
      "132/132 [==============================] - 0s - loss: 0.3874 - acc: 0.8636     \n",
      "Epoch 23/100\n",
      "132/132 [==============================] - 0s - loss: 0.3763 - acc: 0.8561     \n",
      "Epoch 24/100\n",
      "132/132 [==============================] - 0s - loss: 0.3046 - acc: 0.9091     \n",
      "Epoch 25/100\n",
      "132/132 [==============================] - 0s - loss: 0.3438 - acc: 0.8864     \n",
      "Epoch 26/100\n",
      "132/132 [==============================] - 0s - loss: 0.2426 - acc: 0.9394     \n",
      "Epoch 27/100\n",
      "132/132 [==============================] - 0s - loss: 0.3133 - acc: 0.8864     \n",
      "Epoch 28/100\n",
      "132/132 [==============================] - 0s - loss: 0.2410 - acc: 0.9318     \n",
      "Epoch 29/100\n",
      "132/132 [==============================] - 0s - loss: 0.3894 - acc: 0.8712     \n",
      "Epoch 30/100\n",
      "132/132 [==============================] - 0s - loss: 0.2632 - acc: 0.9091     \n",
      "Epoch 31/100\n",
      "132/132 [==============================] - 0s - loss: 0.2938 - acc: 0.8864     \n",
      "Epoch 32/100\n",
      "132/132 [==============================] - 0s - loss: 0.1982 - acc: 0.9318     \n",
      "Epoch 33/100\n",
      "132/132 [==============================] - 0s - loss: 0.2089 - acc: 0.9470     \n",
      "Epoch 34/100\n",
      "132/132 [==============================] - 0s - loss: 0.1595 - acc: 0.9621     \n",
      "Epoch 35/100\n",
      "132/132 [==============================] - 0s - loss: 0.1649 - acc: 0.9621     \n",
      "Epoch 36/100\n",
      "132/132 [==============================] - 0s - loss: 0.1922 - acc: 0.9394     \n",
      "Epoch 37/100\n",
      "132/132 [==============================] - 0s - loss: 0.1959 - acc: 0.9470     \n",
      "Epoch 38/100\n",
      "132/132 [==============================] - 0s - loss: 0.2288 - acc: 0.9318     \n",
      "Epoch 39/100\n",
      "132/132 [==============================] - 0s - loss: 0.1445 - acc: 0.9470     \n",
      "Epoch 40/100\n",
      "132/132 [==============================] - 0s - loss: 0.1649 - acc: 0.9470     \n",
      "Epoch 41/100\n",
      "132/132 [==============================] - 0s - loss: 0.0891 - acc: 0.9848     \n",
      "Epoch 42/100\n",
      "132/132 [==============================] - 0s - loss: 0.0863 - acc: 0.9773     \n",
      "Epoch 43/100\n",
      "132/132 [==============================] - 0s - loss: 0.0840 - acc: 0.9848     \n",
      "Epoch 44/100\n",
      "132/132 [==============================] - 0s - loss: 0.0521 - acc: 0.9924     \n",
      "Epoch 45/100\n",
      "132/132 [==============================] - 0s - loss: 0.0766 - acc: 0.9848     \n",
      "Epoch 46/100\n",
      "132/132 [==============================] - 0s - loss: 0.0904 - acc: 0.9773     \n",
      "Epoch 47/100\n",
      "132/132 [==============================] - 0s - loss: 0.1324 - acc: 0.9470     \n",
      "Epoch 48/100\n",
      "132/132 [==============================] - 0s - loss: 0.3097 - acc: 0.9242     \n",
      "Epoch 49/100\n",
      "132/132 [==============================] - 0s - loss: 0.0999 - acc: 0.9773     \n",
      "Epoch 50/100\n",
      "132/132 [==============================] - 0s - loss: 0.1365 - acc: 0.9621     \n",
      "Epoch 51/100\n",
      "132/132 [==============================] - 0s - loss: 0.0788 - acc: 0.9773     \n",
      "Epoch 52/100\n",
      "132/132 [==============================] - 0s - loss: 0.1027 - acc: 0.9621     \n",
      "Epoch 53/100\n",
      "132/132 [==============================] - 0s - loss: 0.0641 - acc: 0.9773     \n",
      "Epoch 54/100\n",
      "132/132 [==============================] - 0s - loss: 0.0620 - acc: 0.9773     \n",
      "Epoch 55/100\n",
      "132/132 [==============================] - 0s - loss: 0.0656 - acc: 0.9848     \n",
      "Epoch 56/100\n",
      "132/132 [==============================] - 0s - loss: 0.0306 - acc: 1.0000     \n",
      "Epoch 57/100\n",
      "132/132 [==============================] - 0s - loss: 0.0194 - acc: 1.0000     \n",
      "Epoch 58/100\n",
      "132/132 [==============================] - 0s - loss: 0.0204 - acc: 1.0000     \n",
      "Epoch 59/100\n",
      "132/132 [==============================] - 0s - loss: 0.0283 - acc: 0.9848     \n",
      "Epoch 60/100\n",
      "132/132 [==============================] - 0s - loss: 0.0139 - acc: 1.0000     \n",
      "Epoch 61/100\n",
      "132/132 [==============================] - 0s - loss: 0.0137 - acc: 1.0000     \n",
      "Epoch 62/100\n",
      "132/132 [==============================] - 0s - loss: 0.0099 - acc: 1.0000     \n",
      "Epoch 63/100\n",
      "132/132 [==============================] - 0s - loss: 0.0086 - acc: 1.0000     \n",
      "Epoch 64/100\n",
      "132/132 [==============================] - 0s - loss: 0.0117 - acc: 1.0000     \n",
      "Epoch 65/100\n",
      "132/132 [==============================] - 0s - loss: 0.0094 - acc: 1.0000     \n",
      "Epoch 66/100\n",
      "132/132 [==============================] - 0s - loss: 0.0062 - acc: 1.0000     \n",
      "Epoch 67/100\n",
      "132/132 [==============================] - 0s - loss: 0.0052 - acc: 1.0000     \n",
      "Epoch 68/100\n",
      "132/132 [==============================] - 0s - loss: 0.0062 - acc: 1.0000     \n",
      "Epoch 69/100\n",
      "132/132 [==============================] - 0s - loss: 0.0062 - acc: 1.0000     \n",
      "Epoch 70/100\n",
      "132/132 [==============================] - 0s - loss: 0.0067 - acc: 1.0000     \n",
      "Epoch 71/100\n",
      "132/132 [==============================] - 0s - loss: 0.0061 - acc: 1.0000     \n",
      "Epoch 72/100\n",
      "132/132 [==============================] - 0s - loss: 0.0053 - acc: 1.0000     \n",
      "Epoch 73/100\n",
      "132/132 [==============================] - 0s - loss: 0.0032 - acc: 1.0000     \n",
      "Epoch 74/100\n",
      "132/132 [==============================] - 0s - loss: 0.0026 - acc: 1.0000     \n",
      "Epoch 75/100\n",
      "132/132 [==============================] - 0s - loss: 0.0040 - acc: 1.0000     \n",
      "Epoch 76/100\n",
      "132/132 [==============================] - 0s - loss: 0.0036 - acc: 1.0000     \n",
      "Epoch 77/100\n",
      "132/132 [==============================] - 0s - loss: 0.0027 - acc: 1.0000     \n",
      "Epoch 78/100\n",
      "132/132 [==============================] - 0s - loss: 0.0021 - acc: 1.0000        \n",
      "Epoch 79/100\n",
      "132/132 [==============================] - 0s - loss: 0.0021 - acc: 1.0000     \n",
      "Epoch 80/100\n",
      "132/132 [==============================] - 0s - loss: 0.0047 - acc: 1.0000     \n",
      "Epoch 81/100\n",
      "132/132 [==============================] - 0s - loss: 0.0028 - acc: 1.0000        \n",
      "Epoch 82/100\n",
      "132/132 [==============================] - 0s - loss: 0.0020 - acc: 1.0000     \n",
      "Epoch 83/100\n",
      "132/132 [==============================] - 0s - loss: 0.0035 - acc: 1.0000     \n",
      "Epoch 84/100\n",
      "132/132 [==============================] - 0s - loss: 0.0020 - acc: 1.0000     \n",
      "Epoch 85/100\n",
      "132/132 [==============================] - 0s - loss: 0.0016 - acc: 1.0000     \n",
      "Epoch 86/100\n",
      "132/132 [==============================] - 0s - loss: 0.0015 - acc: 1.0000     \n",
      "Epoch 87/100\n",
      "132/132 [==============================] - 0s - loss: 0.0021 - acc: 1.0000     \n",
      "Epoch 88/100\n",
      "132/132 [==============================] - 0s - loss: 0.0014 - acc: 1.0000     \n",
      "Epoch 89/100\n"
     ]
    },
    {
     "name": "stdout",
     "output_type": "stream",
     "text": [
      "132/132 [==============================] - 0s - loss: 0.0016 - acc: 1.0000     \n",
      "Epoch 90/100\n",
      "132/132 [==============================] - 0s - loss: 0.0018 - acc: 1.0000     \n",
      "Epoch 91/100\n",
      "132/132 [==============================] - 0s - loss: 0.0015 - acc: 1.0000     \n",
      "Epoch 92/100\n",
      "132/132 [==============================] - 0s - loss: 0.0015 - acc: 1.0000     \n",
      "Epoch 93/100\n",
      "132/132 [==============================] - 0s - loss: 0.0015 - acc: 1.0000     \n",
      "Epoch 94/100\n",
      "132/132 [==============================] - 0s - loss: 0.0016 - acc: 1.0000     \n",
      "Epoch 95/100\n",
      "132/132 [==============================] - 0s - loss: 0.0016 - acc: 1.0000        \n",
      "Epoch 96/100\n",
      "132/132 [==============================] - 0s - loss: 0.0014 - acc: 1.0000     \n",
      "Epoch 97/100\n",
      "132/132 [==============================] - 0s - loss: 0.0016 - acc: 1.0000     \n",
      "Epoch 98/100\n",
      "132/132 [==============================] - 0s - loss: 0.0012 - acc: 1.0000        \n",
      "Epoch 99/100\n",
      "132/132 [==============================] - 0s - loss: 0.0012 - acc: 1.0000     \n",
      "Epoch 100/100\n",
      "132/132 [==============================] - 0s - loss: 0.0012 - acc: 1.0000     \n"
     ]
    },
    {
     "data": {
      "text/plain": [
       "<keras.callbacks.History at 0x11fffd990>"
      ]
     },
     "execution_count": 14,
     "metadata": {},
     "output_type": "execute_result"
    }
   ],
   "source": [
    "X_train_indices = to_indices(X_train,word_to_index,max_len)\n",
    "model.fit(X_train_indices, y_train, epochs = 100, batch_size = 32, shuffle=True)"
   ]
  },
  {
   "cell_type": "code",
   "execution_count": 15,
   "metadata": {},
   "outputs": [
    {
     "name": "stdout",
     "output_type": "stream",
     "text": [
      "32/56 [================>.............] - ETA: 0s()\n",
      "('Test accuracy = ', 0.8750000085149493)\n"
     ]
    }
   ],
   "source": [
    "X_test_indices = to_indices(X_test,word_to_index,max_len)\n",
    "loss, acc = model.evaluate(X_test_indices, y_test)\n",
    "print()\n",
    "print(\"Test accuracy = \", acc)"
   ]
  },
  {
   "cell_type": "code",
   "execution_count": 16,
   "metadata": {},
   "outputs": [
    {
     "name": "stdout",
     "output_type": "stream",
     "text": [
      "Expected emoji:😞 prediction: work is hard\t😄\n",
      "Expected emoji:😞 prediction: This girl is messing with me\t💘\n",
      "Expected emoji:💘 prediction: I love taking breaks\t😞\n",
      "Expected emoji:😄 prediction: you brighten my day\t💘\n",
      "Expected emoji:😞 prediction: she is a bully\t💘\n",
      "Expected emoji:😞 prediction: go away\t🍴\n",
      "Expected emoji:🍴 prediction: I did not have breakfast 💘\n"
     ]
    }
   ],
   "source": [
    "# This code allows you to see the mislabelled examples\n",
    "pred = model.predict(X_test_indices)\n",
    "for i in range(len(X_test)):\n",
    "    x = X_test_indices\n",
    "    num = np.argmax(pred[i])\n",
    "    if(num != Y_test[i]):\n",
    "        print('Expected emoji:'+ label_to_emoji(Y_test[i]) + ' prediction: '+ X_test[i] + label_to_emoji(num).strip())"
   ]
  },
  {
   "cell_type": "code",
   "execution_count": 17,
   "metadata": {},
   "outputs": [
    {
     "name": "stdout",
     "output_type": "stream",
     "text": [
      "not feeling happy 😞\n"
     ]
    }
   ],
   "source": [
    "test = np.array(['not feeling happy'])\n",
    "test_indices = to_indices(test, word_to_index, max_len)\n",
    "print(test[0] +' '+  label_to_emoji(np.argmax(model.predict(test_indices))))"
   ]
  },
  {
   "cell_type": "code",
   "execution_count": null,
   "metadata": {},
   "outputs": [],
   "source": []
  }
 ],
 "metadata": {
  "kernelspec": {
   "display_name": "Python 2",
   "language": "python",
   "name": "python2"
  },
  "language_info": {
   "codemirror_mode": {
    "name": "ipython",
    "version": 2
   },
   "file_extension": ".py",
   "mimetype": "text/x-python",
   "name": "python",
   "nbconvert_exporter": "python",
   "pygments_lexer": "ipython2",
   "version": "2.7.15"
  }
 },
 "nbformat": 4,
 "nbformat_minor": 2
}
